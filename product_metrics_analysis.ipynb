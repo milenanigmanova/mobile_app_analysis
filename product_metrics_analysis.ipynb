{
 "cells": [
  {
   "cell_type": "markdown",
   "metadata": {},
   "source": [
    "# АНАЛИЗ ПРОДУКТОВЫХ МЕТРИК МОБИЛЬНОГО ПРИЛОЖЕНИЯ"
   ]
  },
  {
   "cell_type": "markdown",
   "metadata": {},
   "source": [
    "Представьте, что вы работаете в компании, которая разрабатывает мобильные игры. К вам пришел менеджер с рядом задач по исследованию нескольких аспектов мобильного приложения:\n",
    "\n",
    "1. В первую очередь, его интересует показатель retention. Напишите функцию для его подсчета.\n",
    "\n",
    "\n",
    "2. Помимо этого, в компании провели A/B тестирование наборов акционных предложений. На основе имеющихся данных определите, какой набор можно считать лучшим и на основе каких метрик стоит принять правильное решение.\n",
    "\n",
    "\n",
    "3. Предложите метрики для оценки результатов последнего прошедшего тематического события в игре."
   ]
  },
  {
   "cell_type": "markdown",
   "metadata": {},
   "source": [
    "Подключим необходимые библиотеки:"
   ]
  },
  {
   "cell_type": "code",
   "execution_count": 2,
   "metadata": {},
   "outputs": [],
   "source": [
    "import pandas as pd\n",
    "import numpy as np\n",
    "from operator import attrgetter\n",
    "import seaborn as sns\n",
    "# Установка стиля Seaborn\n",
    "sns.set(style='whitegrid')\n",
    "import matplotlib.pyplot as plt\n",
    "import warnings\n",
    "warnings.filterwarnings('ignore')\n",
    "import scipy\n",
    "from scipy import stats\n",
    "from scipy.stats import norm\n",
    "from scipy.stats import chi2_contingency"
   ]
  },
  {
   "cell_type": "markdown",
   "metadata": {},
   "source": [
    "## Задание 1\n",
    "Retention – один из самых важных показателей в компании. Ваша задача – написать функцию, которая будет считать retention игроков (по дням от даты регистрации игрока). Данные лежат в папке shared и имеют следующую структуру:"
   ]
  },
  {
   "cell_type": "markdown",
   "metadata": {},
   "source": [
    "- shared/problem1-reg_data.csv – данные о времени регистрации"
   ]
  },
  {
   "cell_type": "code",
   "execution_count": 3,
   "metadata": {},
   "outputs": [
    {
     "data": {
      "text/html": [
       "<div>\n",
       "<style scoped>\n",
       "    .dataframe tbody tr th:only-of-type {\n",
       "        vertical-align: middle;\n",
       "    }\n",
       "\n",
       "    .dataframe tbody tr th {\n",
       "        vertical-align: top;\n",
       "    }\n",
       "\n",
       "    .dataframe thead th {\n",
       "        text-align: right;\n",
       "    }\n",
       "</style>\n",
       "<table border=\"1\" class=\"dataframe\">\n",
       "  <thead>\n",
       "    <tr style=\"text-align: right;\">\n",
       "      <th></th>\n",
       "      <th>reg_ts</th>\n",
       "      <th>uid</th>\n",
       "    </tr>\n",
       "  </thead>\n",
       "  <tbody>\n",
       "    <tr>\n",
       "      <th>0</th>\n",
       "      <td>911382223</td>\n",
       "      <td>1</td>\n",
       "    </tr>\n",
       "    <tr>\n",
       "      <th>1</th>\n",
       "      <td>932683089</td>\n",
       "      <td>2</td>\n",
       "    </tr>\n",
       "    <tr>\n",
       "      <th>2</th>\n",
       "      <td>947802447</td>\n",
       "      <td>3</td>\n",
       "    </tr>\n",
       "    <tr>\n",
       "      <th>3</th>\n",
       "      <td>959523541</td>\n",
       "      <td>4</td>\n",
       "    </tr>\n",
       "    <tr>\n",
       "      <th>4</th>\n",
       "      <td>969103313</td>\n",
       "      <td>5</td>\n",
       "    </tr>\n",
       "  </tbody>\n",
       "</table>\n",
       "</div>"
      ],
      "text/plain": [
       "      reg_ts  uid\n",
       "0  911382223    1\n",
       "1  932683089    2\n",
       "2  947802447    3\n",
       "3  959523541    4\n",
       "4  969103313    5"
      ]
     },
     "execution_count": 3,
     "metadata": {},
     "output_type": "execute_result"
    }
   ],
   "source": [
    "reg_data = pd.read_csv('shared/problem1-reg_data.csv', sep = ';')\n",
    "reg_data.head()"
   ]
  },
  {
   "cell_type": "markdown",
   "metadata": {},
   "source": [
    "- shared/problem1-auth_data.csv – данные о времени захода пользователей в игру"
   ]
  },
  {
   "cell_type": "code",
   "execution_count": 4,
   "metadata": {},
   "outputs": [
    {
     "data": {
      "text/html": [
       "<div>\n",
       "<style scoped>\n",
       "    .dataframe tbody tr th:only-of-type {\n",
       "        vertical-align: middle;\n",
       "    }\n",
       "\n",
       "    .dataframe tbody tr th {\n",
       "        vertical-align: top;\n",
       "    }\n",
       "\n",
       "    .dataframe thead th {\n",
       "        text-align: right;\n",
       "    }\n",
       "</style>\n",
       "<table border=\"1\" class=\"dataframe\">\n",
       "  <thead>\n",
       "    <tr style=\"text-align: right;\">\n",
       "      <th></th>\n",
       "      <th>auth_ts</th>\n",
       "      <th>uid</th>\n",
       "    </tr>\n",
       "  </thead>\n",
       "  <tbody>\n",
       "    <tr>\n",
       "      <th>0</th>\n",
       "      <td>911382223</td>\n",
       "      <td>1</td>\n",
       "    </tr>\n",
       "    <tr>\n",
       "      <th>1</th>\n",
       "      <td>932683089</td>\n",
       "      <td>2</td>\n",
       "    </tr>\n",
       "    <tr>\n",
       "      <th>2</th>\n",
       "      <td>932921206</td>\n",
       "      <td>2</td>\n",
       "    </tr>\n",
       "    <tr>\n",
       "      <th>3</th>\n",
       "      <td>933393015</td>\n",
       "      <td>2</td>\n",
       "    </tr>\n",
       "    <tr>\n",
       "      <th>4</th>\n",
       "      <td>933875379</td>\n",
       "      <td>2</td>\n",
       "    </tr>\n",
       "  </tbody>\n",
       "</table>\n",
       "</div>"
      ],
      "text/plain": [
       "     auth_ts  uid\n",
       "0  911382223    1\n",
       "1  932683089    2\n",
       "2  932921206    2\n",
       "3  933393015    2\n",
       "4  933875379    2"
      ]
     },
     "execution_count": 4,
     "metadata": {},
     "output_type": "execute_result"
    }
   ],
   "source": [
    "auth_data = pd.read_csv('shared/problem1-auth_data.csv', sep = ';')\n",
    "auth_data.head()"
   ]
  },
  {
   "cell_type": "markdown",
   "metadata": {},
   "source": [
    "### Проведём предварительный анализ данных:"
   ]
  },
  {
   "cell_type": "markdown",
   "metadata": {},
   "source": [
    "- размер файлов:"
   ]
  },
  {
   "cell_type": "code",
   "execution_count": 7,
   "metadata": {},
   "outputs": [
    {
     "data": {
      "text/plain": [
       "(1000000, 2)"
      ]
     },
     "execution_count": 7,
     "metadata": {},
     "output_type": "execute_result"
    }
   ],
   "source": [
    "reg_data.shape"
   ]
  },
  {
   "cell_type": "code",
   "execution_count": 61,
   "metadata": {},
   "outputs": [
    {
     "data": {
      "text/plain": [
       "(9601013, 2)"
      ]
     },
     "execution_count": 61,
     "metadata": {},
     "output_type": "execute_result"
    }
   ],
   "source": [
    "auth_data.shape"
   ]
  },
  {
   "cell_type": "markdown",
   "metadata": {},
   "source": [
    "- наличие пустых значений:"
   ]
  },
  {
   "cell_type": "code",
   "execution_count": 6,
   "metadata": {},
   "outputs": [
    {
     "data": {
      "text/plain": [
       "reg_ts    0\n",
       "uid       0\n",
       "dtype: int64"
      ]
     },
     "execution_count": 6,
     "metadata": {},
     "output_type": "execute_result"
    }
   ],
   "source": [
    "reg_data.isna().sum()"
   ]
  },
  {
   "cell_type": "code",
   "execution_count": 7,
   "metadata": {},
   "outputs": [
    {
     "data": {
      "text/plain": [
       "auth_ts    0\n",
       "uid        0\n",
       "dtype: int64"
      ]
     },
     "execution_count": 7,
     "metadata": {},
     "output_type": "execute_result"
    }
   ],
   "source": [
    "auth_data.isna().sum()"
   ]
  },
  {
   "cell_type": "markdown",
   "metadata": {},
   "source": [
    "- типы данных:"
   ]
  },
  {
   "cell_type": "code",
   "execution_count": 8,
   "metadata": {},
   "outputs": [
    {
     "data": {
      "text/plain": [
       "reg_ts    int64\n",
       "uid       int64\n",
       "dtype: object"
      ]
     },
     "execution_count": 8,
     "metadata": {},
     "output_type": "execute_result"
    }
   ],
   "source": [
    "reg_data.dtypes"
   ]
  },
  {
   "cell_type": "code",
   "execution_count": 9,
   "metadata": {},
   "outputs": [
    {
     "data": {
      "text/plain": [
       "auth_ts    int64\n",
       "uid        int64\n",
       "dtype: object"
      ]
     },
     "execution_count": 9,
     "metadata": {},
     "output_type": "execute_result"
    }
   ],
   "source": [
    "auth_data.dtypes"
   ]
  },
  {
   "cell_type": "markdown",
   "metadata": {},
   "source": [
    "- переведём столбцы со временем регистрации и захода пользователей в игру в формат datetime:"
   ]
  },
  {
   "cell_type": "code",
   "execution_count": 5,
   "metadata": {},
   "outputs": [],
   "source": [
    "reg_data['reg_ts'] = pd.to_datetime(reg_data['reg_ts'], unit='s')\n",
    "auth_data['auth_ts'] = pd.to_datetime(auth_data['auth_ts'], unit='s')"
   ]
  },
  {
   "cell_type": "code",
   "execution_count": 63,
   "metadata": {},
   "outputs": [
    {
     "data": {
      "text/plain": [
       "reg_ts    datetime64[ns]\n",
       "uid                int64\n",
       "dtype: object"
      ]
     },
     "execution_count": 63,
     "metadata": {},
     "output_type": "execute_result"
    }
   ],
   "source": [
    "reg_data.dtypes"
   ]
  },
  {
   "cell_type": "code",
   "execution_count": 64,
   "metadata": {},
   "outputs": [
    {
     "data": {
      "text/plain": [
       "auth_ts    datetime64[ns]\n",
       "uid                 int64\n",
       "dtype: object"
      ]
     },
     "execution_count": 64,
     "metadata": {},
     "output_type": "execute_result"
    }
   ],
   "source": [
    "auth_data.dtypes"
   ]
  },
  {
   "cell_type": "markdown",
   "metadata": {},
   "source": [
    "- число уникальных пользователей:"
   ]
  },
  {
   "cell_type": "code",
   "execution_count": 13,
   "metadata": {},
   "outputs": [
    {
     "data": {
      "text/plain": [
       "1000000"
      ]
     },
     "execution_count": 13,
     "metadata": {},
     "output_type": "execute_result"
    }
   ],
   "source": [
    "reg_data.uid.nunique()"
   ]
  },
  {
   "cell_type": "code",
   "execution_count": 14,
   "metadata": {},
   "outputs": [
    {
     "data": {
      "text/plain": [
       "1000000"
      ]
     },
     "execution_count": 14,
     "metadata": {},
     "output_type": "execute_result"
    }
   ],
   "source": [
    "auth_data.uid.nunique()"
   ]
  },
  {
   "cell_type": "markdown",
   "metadata": {},
   "source": [
    "Объединим два файла в один для удобства:"
   ]
  },
  {
   "cell_type": "code",
   "execution_count": 6,
   "metadata": {},
   "outputs": [
    {
     "data": {
      "text/html": [
       "<div>\n",
       "<style scoped>\n",
       "    .dataframe tbody tr th:only-of-type {\n",
       "        vertical-align: middle;\n",
       "    }\n",
       "\n",
       "    .dataframe tbody tr th {\n",
       "        vertical-align: top;\n",
       "    }\n",
       "\n",
       "    .dataframe thead th {\n",
       "        text-align: right;\n",
       "    }\n",
       "</style>\n",
       "<table border=\"1\" class=\"dataframe\">\n",
       "  <thead>\n",
       "    <tr style=\"text-align: right;\">\n",
       "      <th></th>\n",
       "      <th>reg_ts</th>\n",
       "      <th>uid</th>\n",
       "      <th>auth_ts</th>\n",
       "    </tr>\n",
       "  </thead>\n",
       "  <tbody>\n",
       "    <tr>\n",
       "      <th>0</th>\n",
       "      <td>1998-11-18 09:43:43</td>\n",
       "      <td>1</td>\n",
       "      <td>1998-11-18 09:43:43</td>\n",
       "    </tr>\n",
       "    <tr>\n",
       "      <th>1</th>\n",
       "      <td>1999-07-22 22:38:09</td>\n",
       "      <td>2</td>\n",
       "      <td>1999-07-22 22:38:09</td>\n",
       "    </tr>\n",
       "    <tr>\n",
       "      <th>2</th>\n",
       "      <td>1999-07-22 22:38:09</td>\n",
       "      <td>2</td>\n",
       "      <td>1999-07-25 16:46:46</td>\n",
       "    </tr>\n",
       "    <tr>\n",
       "      <th>3</th>\n",
       "      <td>1999-07-22 22:38:09</td>\n",
       "      <td>2</td>\n",
       "      <td>1999-07-31 03:50:15</td>\n",
       "    </tr>\n",
       "    <tr>\n",
       "      <th>4</th>\n",
       "      <td>1999-07-22 22:38:09</td>\n",
       "      <td>2</td>\n",
       "      <td>1999-08-05 17:49:39</td>\n",
       "    </tr>\n",
       "  </tbody>\n",
       "</table>\n",
       "</div>"
      ],
      "text/plain": [
       "               reg_ts  uid             auth_ts\n",
       "0 1998-11-18 09:43:43    1 1998-11-18 09:43:43\n",
       "1 1999-07-22 22:38:09    2 1999-07-22 22:38:09\n",
       "2 1999-07-22 22:38:09    2 1999-07-25 16:46:46\n",
       "3 1999-07-22 22:38:09    2 1999-07-31 03:50:15\n",
       "4 1999-07-22 22:38:09    2 1999-08-05 17:49:39"
      ]
     },
     "execution_count": 6,
     "metadata": {},
     "output_type": "execute_result"
    }
   ],
   "source": [
    "df = reg_data.merge(auth_data, on='uid')\n",
    "df.head()"
   ]
  },
  {
   "cell_type": "code",
   "execution_count": 66,
   "metadata": {},
   "outputs": [
    {
     "data": {
      "text/plain": [
       "(9601013, 3)"
      ]
     },
     "execution_count": 66,
     "metadata": {},
     "output_type": "execute_result"
    }
   ],
   "source": [
    "df.shape"
   ]
  },
  {
   "cell_type": "markdown",
   "metadata": {},
   "source": [
    "### Описание функции cohort_retention\n",
    "\n",
    "Функция cohort_retention предназначена для расчета удержания пользователей (retention) по когорте, основываясь на данных о регистрации и авторизации пользователей. \n",
    "\n",
    "#### Параметры функции:\n",
    "- period: дата, начиная с которой будет производиться анализ;\n",
    "- dataframe: DataFrame с данными пользователей;\n",
    "- reg_date: название столбца с датами регистрации;\n",
    "- auth_date: название столбца с датами авторизации;\n",
    "- customer_id: название столбца с идентификаторами пользователей."
   ]
  },
  {
   "cell_type": "code",
   "execution_count": 7,
   "metadata": {},
   "outputs": [],
   "source": [
    "def cohort_retention(period, dataframe, reg_date, auth_date, customer_id):\n",
    "    # Фильтрация данных: выбираются только те записи, где reg_ts больше или равна заданному периоду\n",
    "    data = dataframe.query('reg_ts >= @period')\n",
    "    \n",
    "    data[reg_date] = data[reg_date].dt.to_period(\"d\") # Извлекаем день регистрации\n",
    "    data[auth_date] = data[auth_date].dt.to_period(\"d\") # Извлекаем день захода в игру\n",
    "    # Создаем столбец days, который содержит количество дней между датой регистрации и авторизации для каждого пользователя\n",
    "    data['days'] = (data[auth_date] - data[reg_date]).apply(attrgetter('n')) \n",
    "    \n",
    "    cohort_pivot = data.pivot_table(index = reg_date, columns='days', values = customer_id, aggfunc = 'nunique')\n",
    "    cohort_size = cohort_pivot.iloc[:, 0] # Рассчитываем размеры когорт (первый столбец сводной таблицы)\n",
    "    retention_matrix = cohort_pivot.divide(cohort_size, axis=0)\n",
    "\n",
    "    retention = (retention_matrix\n",
    "            .style\n",
    "            .set_caption('Daily Retention')  # Добавляем подпись\n",
    "            .background_gradient(cmap='RdYlGn')  # Раскрашиваем ячейки (создаём тепловую карту)\n",
    "            .highlight_null('white')  # делаем белый фон для значений NaN\n",
    "            .format(\"{:.2%}\", na_rep=\"\"))  # числа форматируем как проценты, NaN заменяем на пустоту\n",
    "\n",
    "    return retention"
   ]
  },
  {
   "cell_type": "markdown",
   "metadata": {},
   "source": [
    "Посмотрим на разброс дат, чтобы определить, на какой период будет рациональнее рассчитывать retention:"
   ]
  },
  {
   "cell_type": "code",
   "execution_count": 11,
   "metadata": {},
   "outputs": [
    {
     "data": {
      "text/plain": [
       "reg_ts    2020-09-23 15:17:24\n",
       "auth_ts   2020-09-23 15:17:24\n",
       "dtype: datetime64[ns]"
      ]
     },
     "execution_count": 11,
     "metadata": {},
     "output_type": "execute_result"
    }
   ],
   "source": [
    "df[['reg_ts','auth_ts']].max()"
   ]
  },
  {
   "cell_type": "code",
   "execution_count": 69,
   "metadata": {},
   "outputs": [
    {
     "data": {
      "text/plain": [
       "reg_ts    1998-11-18 09:43:43\n",
       "auth_ts   1998-11-18 09:43:43\n",
       "dtype: datetime64[ns]"
      ]
     },
     "execution_count": 69,
     "metadata": {},
     "output_type": "execute_result"
    }
   ],
   "source": [
    "df[['reg_ts','auth_ts']].min()"
   ]
  },
  {
   "cell_type": "markdown",
   "metadata": {},
   "source": [
    "Нам нужно найти retention по дням от даты регистрации игрока. Видно, что разбор дат довольно большой (c 1998 по 2020 год). Таким образом, целесообразнее рассчитывать retention в рамках 1-2 недель, чтобы результаты матрицы были наглядны и понятно интерпретируемы."
   ]
  },
  {
   "cell_type": "markdown",
   "metadata": {},
   "source": [
    "##### Протестируем функцию на крайней неделе (начиная с 17 сентября 2020 года):"
   ]
  },
  {
   "cell_type": "code",
   "execution_count": 8,
   "metadata": {},
   "outputs": [
    {
     "data": {
      "text/html": [
       "<style  type=\"text/css\" >\n",
       "#T_1271ed72_07d7_11f0_bdbb_96000040dfb6row0_col0,#T_1271ed72_07d7_11f0_bdbb_96000040dfb6row0_col6,#T_1271ed72_07d7_11f0_bdbb_96000040dfb6row1_col0,#T_1271ed72_07d7_11f0_bdbb_96000040dfb6row1_col5,#T_1271ed72_07d7_11f0_bdbb_96000040dfb6row2_col0,#T_1271ed72_07d7_11f0_bdbb_96000040dfb6row2_col4,#T_1271ed72_07d7_11f0_bdbb_96000040dfb6row3_col0,#T_1271ed72_07d7_11f0_bdbb_96000040dfb6row3_col3,#T_1271ed72_07d7_11f0_bdbb_96000040dfb6row4_col0,#T_1271ed72_07d7_11f0_bdbb_96000040dfb6row4_col2,#T_1271ed72_07d7_11f0_bdbb_96000040dfb6row5_col0,#T_1271ed72_07d7_11f0_bdbb_96000040dfb6row5_col1,#T_1271ed72_07d7_11f0_bdbb_96000040dfb6row6_col0{\n",
       "            background-color:  #a50026;\n",
       "            color:  #f1f1f1;\n",
       "        }#T_1271ed72_07d7_11f0_bdbb_96000040dfb6row0_col1{\n",
       "            background-color:  #fdfebc;\n",
       "            color:  #000000;\n",
       "        }#T_1271ed72_07d7_11f0_bdbb_96000040dfb6row0_col2{\n",
       "            background-color:  #42ac5a;\n",
       "            color:  #000000;\n",
       "        }#T_1271ed72_07d7_11f0_bdbb_96000040dfb6row0_col3{\n",
       "            background-color:  #128a49;\n",
       "            color:  #000000;\n",
       "        }#T_1271ed72_07d7_11f0_bdbb_96000040dfb6row0_col4,#T_1271ed72_07d7_11f0_bdbb_96000040dfb6row0_col5,#T_1271ed72_07d7_11f0_bdbb_96000040dfb6row1_col2,#T_1271ed72_07d7_11f0_bdbb_96000040dfb6row2_col3,#T_1271ed72_07d7_11f0_bdbb_96000040dfb6row3_col1{\n",
       "            background-color:  #006837;\n",
       "            color:  #f1f1f1;\n",
       "        }#T_1271ed72_07d7_11f0_bdbb_96000040dfb6row1_col1{\n",
       "            background-color:  #bbe278;\n",
       "            color:  #000000;\n",
       "        }#T_1271ed72_07d7_11f0_bdbb_96000040dfb6row1_col3{\n",
       "            background-color:  #69be63;\n",
       "            color:  #000000;\n",
       "        }#T_1271ed72_07d7_11f0_bdbb_96000040dfb6row1_col4{\n",
       "            background-color:  #2da155;\n",
       "            color:  #000000;\n",
       "        }#T_1271ed72_07d7_11f0_bdbb_96000040dfb6row1_col6,#T_1271ed72_07d7_11f0_bdbb_96000040dfb6row2_col6,#T_1271ed72_07d7_11f0_bdbb_96000040dfb6row3_col6,#T_1271ed72_07d7_11f0_bdbb_96000040dfb6row4_col6,#T_1271ed72_07d7_11f0_bdbb_96000040dfb6row5_col6,#T_1271ed72_07d7_11f0_bdbb_96000040dfb6row6_col6{\n",
       "            background-color:  #a50026;\n",
       "            color:  #f1f1f1;\n",
       "            background-color:  white;\n",
       "        }#T_1271ed72_07d7_11f0_bdbb_96000040dfb6row2_col1{\n",
       "            background-color:  #cfeb85;\n",
       "            color:  #000000;\n",
       "        }#T_1271ed72_07d7_11f0_bdbb_96000040dfb6row2_col2{\n",
       "            background-color:  #fecc7b;\n",
       "            color:  #000000;\n",
       "        }#T_1271ed72_07d7_11f0_bdbb_96000040dfb6row2_col5,#T_1271ed72_07d7_11f0_bdbb_96000040dfb6row3_col4,#T_1271ed72_07d7_11f0_bdbb_96000040dfb6row3_col5,#T_1271ed72_07d7_11f0_bdbb_96000040dfb6row4_col3,#T_1271ed72_07d7_11f0_bdbb_96000040dfb6row4_col4,#T_1271ed72_07d7_11f0_bdbb_96000040dfb6row4_col5,#T_1271ed72_07d7_11f0_bdbb_96000040dfb6row5_col2,#T_1271ed72_07d7_11f0_bdbb_96000040dfb6row5_col3,#T_1271ed72_07d7_11f0_bdbb_96000040dfb6row5_col4,#T_1271ed72_07d7_11f0_bdbb_96000040dfb6row5_col5,#T_1271ed72_07d7_11f0_bdbb_96000040dfb6row6_col1,#T_1271ed72_07d7_11f0_bdbb_96000040dfb6row6_col2,#T_1271ed72_07d7_11f0_bdbb_96000040dfb6row6_col3,#T_1271ed72_07d7_11f0_bdbb_96000040dfb6row6_col4,#T_1271ed72_07d7_11f0_bdbb_96000040dfb6row6_col5{\n",
       "            background-color:  #000000;\n",
       "            color:  #f1f1f1;\n",
       "            background-color:  white;\n",
       "        }#T_1271ed72_07d7_11f0_bdbb_96000040dfb6row3_col2{\n",
       "            background-color:  #30a356;\n",
       "            color:  #000000;\n",
       "        }#T_1271ed72_07d7_11f0_bdbb_96000040dfb6row4_col1{\n",
       "            background-color:  #bde379;\n",
       "            color:  #000000;\n",
       "        }</style><table id=\"T_1271ed72_07d7_11f0_bdbb_96000040dfb6\" ><caption>Daily Retention</caption><thead>    <tr>        <th class=\"index_name level0\" >days</th>        <th class=\"col_heading level0 col0\" >0</th>        <th class=\"col_heading level0 col1\" >1</th>        <th class=\"col_heading level0 col2\" >2</th>        <th class=\"col_heading level0 col3\" >3</th>        <th class=\"col_heading level0 col4\" >4</th>        <th class=\"col_heading level0 col5\" >5</th>        <th class=\"col_heading level0 col6\" >6</th>    </tr>    <tr>        <th class=\"index_name level0\" >reg_ts</th>        <th class=\"blank\" ></th>        <th class=\"blank\" ></th>        <th class=\"blank\" ></th>        <th class=\"blank\" ></th>        <th class=\"blank\" ></th>        <th class=\"blank\" ></th>        <th class=\"blank\" ></th>    </tr></thead><tbody>\n",
       "                <tr>\n",
       "                        <th id=\"T_1271ed72_07d7_11f0_bdbb_96000040dfb6level0_row0\" class=\"row_heading level0 row0\" >2020-09-17</th>\n",
       "                        <td id=\"T_1271ed72_07d7_11f0_bdbb_96000040dfb6row0_col0\" class=\"data row0 col0\" >100.00%</td>\n",
       "                        <td id=\"T_1271ed72_07d7_11f0_bdbb_96000040dfb6row0_col1\" class=\"data row0 col1\" >1.66%</td>\n",
       "                        <td id=\"T_1271ed72_07d7_11f0_bdbb_96000040dfb6row0_col2\" class=\"data row0 col2\" >4.30%</td>\n",
       "                        <td id=\"T_1271ed72_07d7_11f0_bdbb_96000040dfb6row0_col3\" class=\"data row0 col3\" >4.55%</td>\n",
       "                        <td id=\"T_1271ed72_07d7_11f0_bdbb_96000040dfb6row0_col4\" class=\"data row0 col4\" >5.47%</td>\n",
       "                        <td id=\"T_1271ed72_07d7_11f0_bdbb_96000040dfb6row0_col5\" class=\"data row0 col5\" >6.27%</td>\n",
       "                        <td id=\"T_1271ed72_07d7_11f0_bdbb_96000040dfb6row0_col6\" class=\"data row0 col6\" >4.24%</td>\n",
       "            </tr>\n",
       "            <tr>\n",
       "                        <th id=\"T_1271ed72_07d7_11f0_bdbb_96000040dfb6level0_row1\" class=\"row_heading level0 row1\" >2020-09-18</th>\n",
       "                        <td id=\"T_1271ed72_07d7_11f0_bdbb_96000040dfb6row1_col0\" class=\"data row1 col0\" >100.00%</td>\n",
       "                        <td id=\"T_1271ed72_07d7_11f0_bdbb_96000040dfb6row1_col1\" class=\"data row1 col1\" >1.90%</td>\n",
       "                        <td id=\"T_1271ed72_07d7_11f0_bdbb_96000040dfb6row1_col2\" class=\"data row1 col2\" >4.54%</td>\n",
       "                        <td id=\"T_1271ed72_07d7_11f0_bdbb_96000040dfb6row1_col3\" class=\"data row1 col3\" >4.23%</td>\n",
       "                        <td id=\"T_1271ed72_07d7_11f0_bdbb_96000040dfb6row1_col4\" class=\"data row1 col4\" >5.21%</td>\n",
       "                        <td id=\"T_1271ed72_07d7_11f0_bdbb_96000040dfb6row1_col5\" class=\"data row1 col5\" >3.74%</td>\n",
       "                        <td id=\"T_1271ed72_07d7_11f0_bdbb_96000040dfb6row1_col6\" class=\"data row1 col6\" ></td>\n",
       "            </tr>\n",
       "            <tr>\n",
       "                        <th id=\"T_1271ed72_07d7_11f0_bdbb_96000040dfb6level0_row2\" class=\"row_heading level0 row2\" >2020-09-19</th>\n",
       "                        <td id=\"T_1271ed72_07d7_11f0_bdbb_96000040dfb6row2_col0\" class=\"data row2 col0\" >100.00%</td>\n",
       "                        <td id=\"T_1271ed72_07d7_11f0_bdbb_96000040dfb6row2_col1\" class=\"data row2 col1\" >1.84%</td>\n",
       "                        <td id=\"T_1271ed72_07d7_11f0_bdbb_96000040dfb6row2_col2\" class=\"data row2 col2\" >3.55%</td>\n",
       "                        <td id=\"T_1271ed72_07d7_11f0_bdbb_96000040dfb6row2_col3\" class=\"data row2 col3\" >4.71%</td>\n",
       "                        <td id=\"T_1271ed72_07d7_11f0_bdbb_96000040dfb6row2_col4\" class=\"data row2 col4\" >3.49%</td>\n",
       "                        <td id=\"T_1271ed72_07d7_11f0_bdbb_96000040dfb6row2_col5\" class=\"data row2 col5\" ></td>\n",
       "                        <td id=\"T_1271ed72_07d7_11f0_bdbb_96000040dfb6row2_col6\" class=\"data row2 col6\" ></td>\n",
       "            </tr>\n",
       "            <tr>\n",
       "                        <th id=\"T_1271ed72_07d7_11f0_bdbb_96000040dfb6level0_row3\" class=\"row_heading level0 row3\" >2020-09-20</th>\n",
       "                        <td id=\"T_1271ed72_07d7_11f0_bdbb_96000040dfb6row3_col0\" class=\"data row3 col0\" >100.00%</td>\n",
       "                        <td id=\"T_1271ed72_07d7_11f0_bdbb_96000040dfb6row3_col1\" class=\"data row3 col1\" >2.44%</td>\n",
       "                        <td id=\"T_1271ed72_07d7_11f0_bdbb_96000040dfb6row3_col2\" class=\"data row3 col2\" >4.34%</td>\n",
       "                        <td id=\"T_1271ed72_07d7_11f0_bdbb_96000040dfb6row3_col3\" class=\"data row3 col3\" >2.38%</td>\n",
       "                        <td id=\"T_1271ed72_07d7_11f0_bdbb_96000040dfb6row3_col4\" class=\"data row3 col4\" ></td>\n",
       "                        <td id=\"T_1271ed72_07d7_11f0_bdbb_96000040dfb6row3_col5\" class=\"data row3 col5\" ></td>\n",
       "                        <td id=\"T_1271ed72_07d7_11f0_bdbb_96000040dfb6row3_col6\" class=\"data row3 col6\" ></td>\n",
       "            </tr>\n",
       "            <tr>\n",
       "                        <th id=\"T_1271ed72_07d7_11f0_bdbb_96000040dfb6level0_row4\" class=\"row_heading level0 row4\" >2020-09-21</th>\n",
       "                        <td id=\"T_1271ed72_07d7_11f0_bdbb_96000040dfb6row4_col0\" class=\"data row4 col0\" >100.00%</td>\n",
       "                        <td id=\"T_1271ed72_07d7_11f0_bdbb_96000040dfb6row4_col1\" class=\"data row4 col1\" >1.89%</td>\n",
       "                        <td id=\"T_1271ed72_07d7_11f0_bdbb_96000040dfb6row4_col2\" class=\"data row4 col2\" >2.99%</td>\n",
       "                        <td id=\"T_1271ed72_07d7_11f0_bdbb_96000040dfb6row4_col3\" class=\"data row4 col3\" ></td>\n",
       "                        <td id=\"T_1271ed72_07d7_11f0_bdbb_96000040dfb6row4_col4\" class=\"data row4 col4\" ></td>\n",
       "                        <td id=\"T_1271ed72_07d7_11f0_bdbb_96000040dfb6row4_col5\" class=\"data row4 col5\" ></td>\n",
       "                        <td id=\"T_1271ed72_07d7_11f0_bdbb_96000040dfb6row4_col6\" class=\"data row4 col6\" ></td>\n",
       "            </tr>\n",
       "            <tr>\n",
       "                        <th id=\"T_1271ed72_07d7_11f0_bdbb_96000040dfb6level0_row5\" class=\"row_heading level0 row5\" >2020-09-22</th>\n",
       "                        <td id=\"T_1271ed72_07d7_11f0_bdbb_96000040dfb6row5_col0\" class=\"data row5 col0\" >100.00%</td>\n",
       "                        <td id=\"T_1271ed72_07d7_11f0_bdbb_96000040dfb6row5_col1\" class=\"data row5 col1\" >0.85%</td>\n",
       "                        <td id=\"T_1271ed72_07d7_11f0_bdbb_96000040dfb6row5_col2\" class=\"data row5 col2\" ></td>\n",
       "                        <td id=\"T_1271ed72_07d7_11f0_bdbb_96000040dfb6row5_col3\" class=\"data row5 col3\" ></td>\n",
       "                        <td id=\"T_1271ed72_07d7_11f0_bdbb_96000040dfb6row5_col4\" class=\"data row5 col4\" ></td>\n",
       "                        <td id=\"T_1271ed72_07d7_11f0_bdbb_96000040dfb6row5_col5\" class=\"data row5 col5\" ></td>\n",
       "                        <td id=\"T_1271ed72_07d7_11f0_bdbb_96000040dfb6row5_col6\" class=\"data row5 col6\" ></td>\n",
       "            </tr>\n",
       "            <tr>\n",
       "                        <th id=\"T_1271ed72_07d7_11f0_bdbb_96000040dfb6level0_row6\" class=\"row_heading level0 row6\" >2020-09-23</th>\n",
       "                        <td id=\"T_1271ed72_07d7_11f0_bdbb_96000040dfb6row6_col0\" class=\"data row6 col0\" >100.00%</td>\n",
       "                        <td id=\"T_1271ed72_07d7_11f0_bdbb_96000040dfb6row6_col1\" class=\"data row6 col1\" ></td>\n",
       "                        <td id=\"T_1271ed72_07d7_11f0_bdbb_96000040dfb6row6_col2\" class=\"data row6 col2\" ></td>\n",
       "                        <td id=\"T_1271ed72_07d7_11f0_bdbb_96000040dfb6row6_col3\" class=\"data row6 col3\" ></td>\n",
       "                        <td id=\"T_1271ed72_07d7_11f0_bdbb_96000040dfb6row6_col4\" class=\"data row6 col4\" ></td>\n",
       "                        <td id=\"T_1271ed72_07d7_11f0_bdbb_96000040dfb6row6_col5\" class=\"data row6 col5\" ></td>\n",
       "                        <td id=\"T_1271ed72_07d7_11f0_bdbb_96000040dfb6row6_col6\" class=\"data row6 col6\" ></td>\n",
       "            </tr>\n",
       "    </tbody></table>"
      ],
      "text/plain": [
       "<pandas.io.formats.style.Styler at 0x7f42008967b8>"
      ]
     },
     "execution_count": 8,
     "metadata": {},
     "output_type": "execute_result"
    }
   ],
   "source": [
    "retention = cohort_retention(period=\"2020-09-17\", dataframe=df, reg_date='reg_ts', auth_date='auth_ts', customer_id='uid')\n",
    "retention"
   ]
  },
  {
   "cell_type": "markdown",
   "metadata": {},
   "source": [
    "## Задание 2\n",
    "Имеются результаты A/B теста, в котором двум группам пользователей предлагались различные наборы акционных предложений. Известно, что ARPU в тестовой группе выше на 5%, чем в контрольной. При этом в контрольной группе 1928 игроков из 202103 оказались платящими, а в тестовой – 1805 из 202667.\n",
    "\n",
    "Какой набор предложений можно считать лучшим? Какие метрики стоит проанализировать для принятия правильного решения и как?"
   ]
  },
  {
   "cell_type": "markdown",
   "metadata": {},
   "source": [
    "### Попробуем сформулировать гипотезу на основе имеющихся данных:\n",
    "\n",
    "\"Если изменим (каким-то определённым образом) набор акционных предложений, то пользователи наших мобильных игр смогут быстрее увеличивать свою активность и вовлеченность за счет более привлекательных и релевантных предложений, которые будут лучше соответствовать интересам и потребностям игроков, что приведет к росту ARPU (среднего дохода на пользователя), увеличению числа платящих пользователей, увеличению конверсии в покупку (и может ещё к чему-то)\". "
   ]
  },
  {
   "cell_type": "markdown",
   "metadata": {},
   "source": [
    "#### Посмотрим на данные и проведём их предварительный анализ:\n",
    "Таблица с результатами A/B теста имеет три столбца:\n",
    "\n",
    "* user_id - идентификатор пользователя\n",
    "* revenue - доход с пользователя\n",
    "* testgroup - группа (a либо b)"
   ]
  },
  {
   "cell_type": "code",
   "execution_count": 8,
   "metadata": {},
   "outputs": [
    {
     "data": {
      "text/html": [
       "<div>\n",
       "<style scoped>\n",
       "    .dataframe tbody tr th:only-of-type {\n",
       "        vertical-align: middle;\n",
       "    }\n",
       "\n",
       "    .dataframe tbody tr th {\n",
       "        vertical-align: top;\n",
       "    }\n",
       "\n",
       "    .dataframe thead th {\n",
       "        text-align: right;\n",
       "    }\n",
       "</style>\n",
       "<table border=\"1\" class=\"dataframe\">\n",
       "  <thead>\n",
       "    <tr style=\"text-align: right;\">\n",
       "      <th></th>\n",
       "      <th>user_id</th>\n",
       "      <th>revenue</th>\n",
       "      <th>testgroup</th>\n",
       "    </tr>\n",
       "  </thead>\n",
       "  <tbody>\n",
       "    <tr>\n",
       "      <th>0</th>\n",
       "      <td>1</td>\n",
       "      <td>0</td>\n",
       "      <td>b</td>\n",
       "    </tr>\n",
       "    <tr>\n",
       "      <th>1</th>\n",
       "      <td>2</td>\n",
       "      <td>0</td>\n",
       "      <td>a</td>\n",
       "    </tr>\n",
       "    <tr>\n",
       "      <th>2</th>\n",
       "      <td>3</td>\n",
       "      <td>0</td>\n",
       "      <td>a</td>\n",
       "    </tr>\n",
       "    <tr>\n",
       "      <th>3</th>\n",
       "      <td>4</td>\n",
       "      <td>0</td>\n",
       "      <td>b</td>\n",
       "    </tr>\n",
       "    <tr>\n",
       "      <th>4</th>\n",
       "      <td>5</td>\n",
       "      <td>0</td>\n",
       "      <td>b</td>\n",
       "    </tr>\n",
       "  </tbody>\n",
       "</table>\n",
       "</div>"
      ],
      "text/plain": [
       "   user_id  revenue testgroup\n",
       "0        1        0         b\n",
       "1        2        0         a\n",
       "2        3        0         a\n",
       "3        4        0         b\n",
       "4        5        0         b"
      ]
     },
     "execution_count": 8,
     "metadata": {},
     "output_type": "execute_result"
    }
   ],
   "source": [
    "task2 = pd.read_csv('Проект_1_Задание_2.csv', sep = ';')\n",
    "task2.head()"
   ]
  },
  {
   "cell_type": "code",
   "execution_count": 72,
   "metadata": {},
   "outputs": [
    {
     "data": {
      "text/plain": [
       "user_id       int64\n",
       "revenue       int64\n",
       "testgroup    object\n",
       "dtype: object"
      ]
     },
     "execution_count": 72,
     "metadata": {},
     "output_type": "execute_result"
    }
   ],
   "source": [
    "task2.dtypes"
   ]
  },
  {
   "cell_type": "code",
   "execution_count": 73,
   "metadata": {},
   "outputs": [
    {
     "data": {
      "text/plain": [
       "user_id      0\n",
       "revenue      0\n",
       "testgroup    0\n",
       "dtype: int64"
      ]
     },
     "execution_count": 73,
     "metadata": {},
     "output_type": "execute_result"
    }
   ],
   "source": [
    "task2.isna().sum()"
   ]
  },
  {
   "cell_type": "code",
   "execution_count": 74,
   "metadata": {},
   "outputs": [
    {
     "data": {
      "text/plain": [
       "(404770, 3)"
      ]
     },
     "execution_count": 74,
     "metadata": {},
     "output_type": "execute_result"
    }
   ],
   "source": [
    "task2.shape"
   ]
  },
  {
   "cell_type": "code",
   "execution_count": 75,
   "metadata": {},
   "outputs": [
    {
     "data": {
      "text/plain": [
       "404770"
      ]
     },
     "execution_count": 75,
     "metadata": {},
     "output_type": "execute_result"
    }
   ],
   "source": [
    "task2.user_id.nunique()"
   ]
  },
  {
   "cell_type": "markdown",
   "metadata": {},
   "source": [
    "##### Проверим однородность распределений тестовой и контрольных групп:"
   ]
  },
  {
   "cell_type": "code",
   "execution_count": 9,
   "metadata": {},
   "outputs": [
    {
     "data": {
      "text/html": [
       "<div>\n",
       "<style scoped>\n",
       "    .dataframe tbody tr th:only-of-type {\n",
       "        vertical-align: middle;\n",
       "    }\n",
       "\n",
       "    .dataframe tbody tr th {\n",
       "        vertical-align: top;\n",
       "    }\n",
       "\n",
       "    .dataframe thead th {\n",
       "        text-align: right;\n",
       "    }\n",
       "</style>\n",
       "<table border=\"1\" class=\"dataframe\">\n",
       "  <thead>\n",
       "    <tr style=\"text-align: right;\">\n",
       "      <th></th>\n",
       "      <th>testgroup</th>\n",
       "      <th>all_users</th>\n",
       "    </tr>\n",
       "  </thead>\n",
       "  <tbody>\n",
       "    <tr>\n",
       "      <th>0</th>\n",
       "      <td>a</td>\n",
       "      <td>202103</td>\n",
       "    </tr>\n",
       "    <tr>\n",
       "      <th>1</th>\n",
       "      <td>b</td>\n",
       "      <td>202667</td>\n",
       "    </tr>\n",
       "  </tbody>\n",
       "</table>\n",
       "</div>"
      ],
      "text/plain": [
       "  testgroup  all_users\n",
       "0         a     202103\n",
       "1         b     202667"
      ]
     },
     "execution_count": 9,
     "metadata": {},
     "output_type": "execute_result"
    }
   ],
   "source": [
    "# Общее количество пользователей\n",
    "all_users = task2.groupby('testgroup',as_index=False) \\\n",
    "    .agg({'user_id':'nunique'}) \\\n",
    "    .rename(columns={'user_id':'all_users'})\n",
    "all_users"
   ]
  },
  {
   "cell_type": "code",
   "execution_count": 10,
   "metadata": {},
   "outputs": [
    {
     "data": {
      "image/png": "[encoded data removed]",
      "text/plain": [
       "<Figure size 1152x432 with 1 Axes>"
      ]
     },
     "metadata": {},
     "output_type": "display_data"
    }
   ],
   "source": [
    "# Построение графика\n",
    "plt.figure(figsize=(16, 6))\n",
    "barplot = sns.barplot(x='all_users', y='testgroup', data=all_users, palette='colorblind')\n",
    "\n",
    "# Добавление значений на график\n",
    "for index, value in enumerate(all_users['all_users']):\n",
    "    barplot.text(value + 5, index, f'{value:}', color='black', ha='left', va='center', fontweight='bold')\n",
    "\n",
    "# Настройка графика\n",
    "plt.title('Распределение пользователей по тестовым группам', fontsize=18, fontweight='bold')\n",
    "plt.xlabel('Количество пользователей', fontsize=14)\n",
    "plt.ylabel('Группа', fontsize=14)\n",
    "plt.xticks(fontsize=12)\n",
    "plt.yticks(fontsize=12)\n",
    "plt.tight_layout()\n",
    "\n",
    "# Показать график\n",
    "plt.show()"
   ]
  },
  {
   "cell_type": "markdown",
   "metadata": {},
   "source": [
    "Количество пользователей в обеих группах примерно одинаково, это хорошо."
   ]
  },
  {
   "cell_type": "markdown",
   "metadata": {},
   "source": [
    "## Метрики:"
   ]
  },
  {
   "cell_type": "markdown",
   "metadata": {},
   "source": [
    "* ### Paying Users\n",
    "Найдём число платящих пользователей по группам:"
   ]
  },
  {
   "cell_type": "code",
   "execution_count": 11,
   "metadata": {},
   "outputs": [
    {
     "data": {
      "text/html": [
       "<div>\n",
       "<style scoped>\n",
       "    .dataframe tbody tr th:only-of-type {\n",
       "        vertical-align: middle;\n",
       "    }\n",
       "\n",
       "    .dataframe tbody tr th {\n",
       "        vertical-align: top;\n",
       "    }\n",
       "\n",
       "    .dataframe thead th {\n",
       "        text-align: right;\n",
       "    }\n",
       "</style>\n",
       "<table border=\"1\" class=\"dataframe\">\n",
       "  <thead>\n",
       "    <tr style=\"text-align: right;\">\n",
       "      <th></th>\n",
       "      <th>testgroup</th>\n",
       "      <th>paying_users</th>\n",
       "    </tr>\n",
       "  </thead>\n",
       "  <tbody>\n",
       "    <tr>\n",
       "      <th>0</th>\n",
       "      <td>a</td>\n",
       "      <td>1928</td>\n",
       "    </tr>\n",
       "    <tr>\n",
       "      <th>1</th>\n",
       "      <td>b</td>\n",
       "      <td>1805</td>\n",
       "    </tr>\n",
       "  </tbody>\n",
       "</table>\n",
       "</div>"
      ],
      "text/plain": [
       "  testgroup  paying_users\n",
       "0         a          1928\n",
       "1         b          1805"
      ]
     },
     "execution_count": 11,
     "metadata": {},
     "output_type": "execute_result"
    }
   ],
   "source": [
    "# Количество пользователей, которые выполнили целевое действие (совершили покупку)\n",
    "purchase = task2.query('revenue > 0') \\\n",
    "    .groupby('testgroup', as_index=False) \\\n",
    "    .agg({'user_id':'nunique'}) \\\n",
    "    .rename(columns={'user_id':'paying_users'})\n",
    "purchase"
   ]
  },
  {
   "cell_type": "code",
   "execution_count": 12,
   "metadata": {},
   "outputs": [
    {
     "data": {
      "image/png": "[encoded data removed]",
      "text/plain": [
       "<Figure size 792x360 with 1 Axes>"
      ]
     },
     "metadata": {},
     "output_type": "display_data"
    }
   ],
   "source": [
    "# Построение графика\n",
    "plt.figure(figsize=(11, 5))\n",
    "barplot = sns.barplot(x='paying_users', y='testgroup', data=purchase, palette='colorblind')\n",
    "\n",
    "# Добавление значений на график\n",
    "for index, value in enumerate(purchase['paying_users']):\n",
    "    barplot.text(value, index, f'{value:}', color='black', ha='left', va='center', fontweight='bold')\n",
    "\n",
    "# Настройка графика\n",
    "plt.title('Количество платящих пользователей по группам', fontsize=18, fontweight='bold')\n",
    "plt.ylabel('Группа', fontsize=14)\n",
    "plt.xlabel('Количество платящих пользователей', fontsize=14)\n",
    "plt.xticks(fontsize=12)\n",
    "plt.yticks(fontsize=12)\n",
    "plt.tight_layout()"
   ]
  },
  {
   "cell_type": "markdown",
   "metadata": {},
   "source": [
    "Видно, что в контрольной группе число платящих пользователей выше, чем в тестовой (1928 - 1805 = 123 пользователя).\n",
    "\n",
    "Это может указывать на то, что текущий набор акционных предложений в контрольной группе более эффективен в стимулировании платежной активности пользователей."
   ]
  },
  {
   "cell_type": "markdown",
   "metadata": {},
   "source": [
    "* ### Conversion Rate\n",
    "\n",
    "Найдём конверсию в покупку:"
   ]
  },
  {
   "cell_type": "code",
   "execution_count": 13,
   "metadata": {},
   "outputs": [
    {
     "data": {
      "text/html": [
       "<div>\n",
       "<style scoped>\n",
       "    .dataframe tbody tr th:only-of-type {\n",
       "        vertical-align: middle;\n",
       "    }\n",
       "\n",
       "    .dataframe tbody tr th {\n",
       "        vertical-align: top;\n",
       "    }\n",
       "\n",
       "    .dataframe thead th {\n",
       "        text-align: right;\n",
       "    }\n",
       "</style>\n",
       "<table border=\"1\" class=\"dataframe\">\n",
       "  <thead>\n",
       "    <tr style=\"text-align: right;\">\n",
       "      <th></th>\n",
       "      <th>testgroup</th>\n",
       "      <th>all_users</th>\n",
       "      <th>paying_users</th>\n",
       "    </tr>\n",
       "  </thead>\n",
       "  <tbody>\n",
       "    <tr>\n",
       "      <th>0</th>\n",
       "      <td>a</td>\n",
       "      <td>202103</td>\n",
       "      <td>1928</td>\n",
       "    </tr>\n",
       "    <tr>\n",
       "      <th>1</th>\n",
       "      <td>b</td>\n",
       "      <td>202667</td>\n",
       "      <td>1805</td>\n",
       "    </tr>\n",
       "  </tbody>\n",
       "</table>\n",
       "</div>"
      ],
      "text/plain": [
       "  testgroup  all_users  paying_users\n",
       "0         a     202103          1928\n",
       "1         b     202667          1805"
      ]
     },
     "execution_count": 13,
     "metadata": {},
     "output_type": "execute_result"
    }
   ],
   "source": [
    "# Oбъединим датафреймы \n",
    "data = all_users.merge(purchase, on='testgroup')\n",
    "data"
   ]
  },
  {
   "cell_type": "code",
   "execution_count": 14,
   "metadata": {},
   "outputs": [
    {
     "data": {
      "text/html": [
       "<div>\n",
       "<style scoped>\n",
       "    .dataframe tbody tr th:only-of-type {\n",
       "        vertical-align: middle;\n",
       "    }\n",
       "\n",
       "    .dataframe tbody tr th {\n",
       "        vertical-align: top;\n",
       "    }\n",
       "\n",
       "    .dataframe thead th {\n",
       "        text-align: right;\n",
       "    }\n",
       "</style>\n",
       "<table border=\"1\" class=\"dataframe\">\n",
       "  <thead>\n",
       "    <tr style=\"text-align: right;\">\n",
       "      <th></th>\n",
       "      <th>testgroup</th>\n",
       "      <th>all_users</th>\n",
       "      <th>paying_users</th>\n",
       "      <th>conversion</th>\n",
       "    </tr>\n",
       "  </thead>\n",
       "  <tbody>\n",
       "    <tr>\n",
       "      <th>0</th>\n",
       "      <td>a</td>\n",
       "      <td>202103</td>\n",
       "      <td>1928</td>\n",
       "      <td>0.95</td>\n",
       "    </tr>\n",
       "    <tr>\n",
       "      <th>1</th>\n",
       "      <td>b</td>\n",
       "      <td>202667</td>\n",
       "      <td>1805</td>\n",
       "      <td>0.89</td>\n",
       "    </tr>\n",
       "  </tbody>\n",
       "</table>\n",
       "</div>"
      ],
      "text/plain": [
       "  testgroup  all_users  paying_users  conversion\n",
       "0         a     202103          1928        0.95\n",
       "1         b     202667          1805        0.89"
      ]
     },
     "execution_count": 14,
     "metadata": {},
     "output_type": "execute_result"
    }
   ],
   "source": [
    "# Посчитаем конверсию\n",
    "data['conversion'] = ((data.paying_users / data.all_users) * 100).round(2)\n",
    "data"
   ]
  },
  {
   "cell_type": "code",
   "execution_count": 15,
   "metadata": {},
   "outputs": [
    {
     "data": {
      "image/png": "[encoded data removed]",
      "text/plain": [
       "<Figure size 864x360 with 1 Axes>"
      ]
     },
     "metadata": {},
     "output_type": "display_data"
    }
   ],
   "source": [
    "# Построение графика\n",
    "plt.figure(figsize=(12, 5))\n",
    "barplot = sns.barplot(x='conversion', y='testgroup', data=data, palette='colorblind')\n",
    "\n",
    "# Добавление значений на график\n",
    "for index, value in enumerate(data.conversion):\n",
    "    barplot.text(value + 0.01, index, f'{value:.2f}', color='black', va='center', fontweight='bold')\n",
    "\n",
    "# Настройка графика\n",
    "plt.title('Конверсия в покупку', fontsize=18, fontweight='bold')\n",
    "plt.xlabel('Конверсия', fontsize=14)\n",
    "plt.ylabel('Группа', fontsize=14)\n",
    "plt.xticks(fontsize=12)\n",
    "plt.yticks(fontsize=12)\n",
    "plt.tight_layout()\n",
    "\n",
    "# Показать график\n",
    "plt.show()"
   ]
  },
  {
   "cell_type": "markdown",
   "metadata": {},
   "source": [
    "Конверсия в группе a больше, чем в группе b на 0,06.\n",
    "\n",
    "Для измерения статистической значимости различий конверсий между двумя группами в A/B тестировании наиболее подходящим методом является критерий хи-квадрат. Этот тест позволяет оценить, есть ли статистически значимые различия между пропорциями двух выборок, что идеально подходит для анализа конверсий, которые представляют собой бинарные исходы (платит/не платит).\n",
    "\n",
    "- Нулевая гипотеза: разница между средними значениями показателя в сегментах статистически незначима.\n",
    "\n",
    "- Альтернативная гипотеза: разница между средними значениями показателя в сегментах статистически значима."
   ]
  },
  {
   "cell_type": "code",
   "execution_count": 16,
   "metadata": {},
   "outputs": [
    {
     "data": {
      "text/html": [
       "<div>\n",
       "<style scoped>\n",
       "    .dataframe tbody tr th:only-of-type {\n",
       "        vertical-align: middle;\n",
       "    }\n",
       "\n",
       "    .dataframe tbody tr th {\n",
       "        vertical-align: top;\n",
       "    }\n",
       "\n",
       "    .dataframe thead th {\n",
       "        text-align: right;\n",
       "    }\n",
       "</style>\n",
       "<table border=\"1\" class=\"dataframe\">\n",
       "  <thead>\n",
       "    <tr style=\"text-align: right;\">\n",
       "      <th></th>\n",
       "      <th>user_id</th>\n",
       "      <th>revenue</th>\n",
       "      <th>testgroup</th>\n",
       "      <th>purchase</th>\n",
       "    </tr>\n",
       "  </thead>\n",
       "  <tbody>\n",
       "    <tr>\n",
       "      <th>0</th>\n",
       "      <td>1</td>\n",
       "      <td>0</td>\n",
       "      <td>b</td>\n",
       "      <td>no</td>\n",
       "    </tr>\n",
       "    <tr>\n",
       "      <th>1</th>\n",
       "      <td>2</td>\n",
       "      <td>0</td>\n",
       "      <td>a</td>\n",
       "      <td>no</td>\n",
       "    </tr>\n",
       "    <tr>\n",
       "      <th>2</th>\n",
       "      <td>3</td>\n",
       "      <td>0</td>\n",
       "      <td>a</td>\n",
       "      <td>no</td>\n",
       "    </tr>\n",
       "    <tr>\n",
       "      <th>3</th>\n",
       "      <td>4</td>\n",
       "      <td>0</td>\n",
       "      <td>b</td>\n",
       "      <td>no</td>\n",
       "    </tr>\n",
       "    <tr>\n",
       "      <th>4</th>\n",
       "      <td>5</td>\n",
       "      <td>0</td>\n",
       "      <td>b</td>\n",
       "      <td>no</td>\n",
       "    </tr>\n",
       "  </tbody>\n",
       "</table>\n",
       "</div>"
      ],
      "text/plain": [
       "   user_id  revenue testgroup purchase\n",
       "0        1        0         b       no\n",
       "1        2        0         a       no\n",
       "2        3        0         a       no\n",
       "3        4        0         b       no\n",
       "4        5        0         b       no"
      ]
     },
     "execution_count": 16,
     "metadata": {},
     "output_type": "execute_result"
    }
   ],
   "source": [
    "# Добавим новый столбец в исходный датафрейм, где будет указываться наличие/отсутствие покупки у пользователей\n",
    "purchase = []\n",
    "for i in task2.revenue:\n",
    "    if i == 0:\n",
    "        purchase.append('no')\n",
    "    else:\n",
    "        purchase.append('yes')\n",
    "task2['purchase'] = purchase\n",
    "task2.head()"
   ]
  },
  {
   "cell_type": "code",
   "execution_count": 17,
   "metadata": {},
   "outputs": [
    {
     "data": {
      "text/html": [
       "<div>\n",
       "<style scoped>\n",
       "    .dataframe tbody tr th:only-of-type {\n",
       "        vertical-align: middle;\n",
       "    }\n",
       "\n",
       "    .dataframe tbody tr th {\n",
       "        vertical-align: top;\n",
       "    }\n",
       "\n",
       "    .dataframe thead th {\n",
       "        text-align: right;\n",
       "    }\n",
       "</style>\n",
       "<table border=\"1\" class=\"dataframe\">\n",
       "  <thead>\n",
       "    <tr style=\"text-align: right;\">\n",
       "      <th>purchase</th>\n",
       "      <th>no</th>\n",
       "      <th>yes</th>\n",
       "    </tr>\n",
       "    <tr>\n",
       "      <th>testgroup</th>\n",
       "      <th></th>\n",
       "      <th></th>\n",
       "    </tr>\n",
       "  </thead>\n",
       "  <tbody>\n",
       "    <tr>\n",
       "      <th>a</th>\n",
       "      <td>200175</td>\n",
       "      <td>1928</td>\n",
       "    </tr>\n",
       "    <tr>\n",
       "      <th>b</th>\n",
       "      <td>200862</td>\n",
       "      <td>1805</td>\n",
       "    </tr>\n",
       "  </tbody>\n",
       "</table>\n",
       "</div>"
      ],
      "text/plain": [
       "purchase       no   yes\n",
       "testgroup              \n",
       "a          200175  1928\n",
       "b          200862  1805"
      ]
     },
     "execution_count": 17,
     "metadata": {},
     "output_type": "execute_result"
    }
   ],
   "source": [
    "# Cоберем таблицу сопряженности\n",
    "crosstab = pd.crosstab(task2['testgroup'], task2['purchase'])\n",
    "crosstab"
   ]
  },
  {
   "cell_type": "code",
   "execution_count": 18,
   "metadata": {},
   "outputs": [
    {
     "name": "stdout",
     "output_type": "stream",
     "text": [
      "Chi-squared: 4.374729521260405\n",
      "P-value: 0.03647561892312613\n",
      "Degrees of freedom: 1\n",
      "Expected frequencies: [[200239.10075104   1863.89924896]\n",
      " [200797.89924896   1869.10075104]]\n"
     ]
    }
   ],
   "source": [
    "# Проведение теста хи-квадрат\n",
    "chi2, p, dof, expected = chi2_contingency(crosstab)\n",
    "\n",
    "# Вывод результатов\n",
    "print(f\"Chi-squared: {chi2}\")\n",
    "print(f\"P-value: {p}\")\n",
    "print(f\"Degrees of freedom: {dof}\")\n",
    "print(f\"Expected frequencies: {expected}\")"
   ]
  },
  {
   "cell_type": "markdown",
   "metadata": {},
   "source": [
    "P-value < 0.05, значит отклоняем нулевую гипотезу. \n",
    "\n",
    "Принимаем альтернативную гипотезу: разница между средними значениями показателя в сегментах **статистически значима**.\n",
    "\n",
    "Можно сделать вывод о том, что набор старых акционных предложений для контрольной группы a положительно влияет на пользователей, побуждая их совершать покупки. Набор новых предложений для группы b действительно снижает конверсию в покупку."
   ]
  },
  {
   "cell_type": "markdown",
   "metadata": {},
   "source": [
    "##### Revenue\n",
    "Рассмотрим распределение revenue по группам с помошью построения графика \"яшик с усами\", чтобы изучить подробнее различия между группами по доходу, найти интересные закономерности: "
   ]
  },
  {
   "cell_type": "code",
   "execution_count": 19,
   "metadata": {},
   "outputs": [
    {
     "data": {
      "image/png": "[encoded data removed]",
      "text/plain": [
       "<Figure size 1080x216 with 1 Axes>"
      ]
     },
     "metadata": {},
     "output_type": "display_data"
    },
    {
     "data": {
      "image/png": "[encoded data removed]",
      "text/plain": [
       "<Figure size 1080x216 with 1 Axes>"
      ]
     },
     "metadata": {},
     "output_type": "display_data"
    },
    {
     "data": {
      "image/png": "[encoded data removed]",
      "text/plain": [
       "<Figure size 1080x216 with 1 Axes>"
      ]
     },
     "metadata": {},
     "output_type": "display_data"
    },
    {
     "name": "stdout",
     "output_type": "stream",
     "text": [
      "Минимальный доход в группе a: 200 \n",
      "Медианный доход в группе a: 311.0 \n",
      "Максимальный доход в группе a: 37433 \n",
      "\n",
      "Минимальный доход в группе b: 2000 \n",
      "Медианный доход в группе b: 3022.0 \n",
      "Максимальный доход в группе b: 4000\n"
     ]
    }
   ],
   "source": [
    "# График 1: Revenue in group a\n",
    "plt.figure(figsize=(15, 3))\n",
    "sns.boxplot(data=task2.query(\"testgroup == 'a' & revenue > 0\")[['revenue']], orient=\"h\")\n",
    "plt.title('Revenue in Group A', fontsize=16, fontweight='bold')\n",
    "plt.xlabel('Revenue', fontsize=14)\n",
    "plt.grid(axis='x', linestyle='--', alpha=0.7)\n",
    "plt.tight_layout()\n",
    "plt.show()\n",
    "\n",
    "# График 2: Revenue in group a (smaller range)\n",
    "plt.figure(figsize=(15, 3))\n",
    "sns.boxplot(data=task2.query(\"testgroup == 'a' & 0 < revenue < 10000\")[['revenue']], orient=\"h\")\n",
    "plt.title('Revenue in Group A (Smaller Range)', fontsize=16, fontweight='bold')\n",
    "plt.xlabel('Revenue', fontsize=14)\n",
    "plt.grid(axis='x', linestyle='--', alpha=0.7)\n",
    "plt.tight_layout()\n",
    "plt.show()\n",
    "\n",
    "# График 3: Revenue in group b\n",
    "plt.figure(figsize=(15, 3))\n",
    "sns.boxplot(data=task2.query(\"testgroup == 'b' & revenue > 0\")[['revenue']], orient=\"h\")\n",
    "plt.title('Revenue in Group B', fontsize=16, fontweight='bold')\n",
    "plt.xlabel('Revenue', fontsize=14)\n",
    "plt.grid(axis='x', linestyle='--', alpha=0.7)\n",
    "plt.tight_layout()\n",
    "plt.show()\n",
    "\n",
    "print(\n",
    "'Минимальный доход в группе a:',task2.query('testgroup == \"a\" & revenue > 0')['revenue'].min(),   \n",
    "'\\nМедианный доход в группе a:',task2.query('testgroup == \"a\" & revenue > 0')['revenue'].median(),   \n",
    "'\\nМаксимальный доход в группе a:',task2.query('testgroup == \"a\" & revenue > 0')['revenue'].max(),\n",
    "\n",
    "'\\n\\nМинимальный доход в группе b:',task2.query('testgroup == \"b\" & revenue > 0')['revenue'].min(),  \n",
    "'\\nМедианный доход в группе b:',task2.query('testgroup == \"b\" & revenue > 0')['revenue'].median(), \n",
    "'\\nМаксимальный доход в группе b:',task2.query('testgroup == \"b\" & revenue > 0')['revenue'].max()\n",
    ")"
   ]
  },
  {
   "cell_type": "markdown",
   "metadata": {},
   "source": [
    "По графику сразу заметно, что диапазон значений revenue в группе а намного меньше, чем в группе b, поэтому для наглядности был выведен график с меньшим разбросом (Revenue in group a (smaller range)). \n",
    "\n",
    "Медианное значение дохода в группе a примерно в 10 раз меньше, чем в группе b. \n",
    "\n",
    "В группе а большинство покупок имеют стоимость 200 - 400 денежных единиц, однако имеются слишком дорогие покупки (максимальный доход в группе a: 37433), что говорит о неравномерности распределения. Этот момент стоит изучить глубже на наличие багов и других возможных причин таких значений. \n",
    "В группе b подобных аномалий не наблюдается."
   ]
  },
  {
   "cell_type": "markdown",
   "metadata": {},
   "source": [
    "Посмотрим на суммарный доход в распределении по группам а и b:"
   ]
  },
  {
   "cell_type": "code",
   "execution_count": 20,
   "metadata": {},
   "outputs": [
    {
     "data": {
      "text/html": [
       "<div>\n",
       "<style scoped>\n",
       "    .dataframe tbody tr th:only-of-type {\n",
       "        vertical-align: middle;\n",
       "    }\n",
       "\n",
       "    .dataframe tbody tr th {\n",
       "        vertical-align: top;\n",
       "    }\n",
       "\n",
       "    .dataframe thead th {\n",
       "        text-align: right;\n",
       "    }\n",
       "</style>\n",
       "<table border=\"1\" class=\"dataframe\">\n",
       "  <thead>\n",
       "    <tr style=\"text-align: right;\">\n",
       "      <th></th>\n",
       "      <th>testgroup</th>\n",
       "      <th>revenue</th>\n",
       "    </tr>\n",
       "  </thead>\n",
       "  <tbody>\n",
       "    <tr>\n",
       "      <th>0</th>\n",
       "      <td>a</td>\n",
       "      <td>5136189</td>\n",
       "    </tr>\n",
       "    <tr>\n",
       "      <th>1</th>\n",
       "      <td>b</td>\n",
       "      <td>5421603</td>\n",
       "    </tr>\n",
       "  </tbody>\n",
       "</table>\n",
       "</div>"
      ],
      "text/plain": [
       "  testgroup  revenue\n",
       "0         a  5136189\n",
       "1         b  5421603"
      ]
     },
     "execution_count": 20,
     "metadata": {},
     "output_type": "execute_result"
    }
   ],
   "source": [
    "revenue = task2.groupby('testgroup', as_index = False) \\\n",
    "    .agg(revenue =('revenue', 'sum')) \\\n",
    "    .round(2)\n",
    "revenue"
   ]
  },
  {
   "cell_type": "code",
   "execution_count": 21,
   "metadata": {},
   "outputs": [
    {
     "data": {
      "image/png": "[encoded data removed]",
      "text/plain": [
       "<Figure size 1224x360 with 1 Axes>"
      ]
     },
     "metadata": {},
     "output_type": "display_data"
    }
   ],
   "source": [
    "# Построение графика\n",
    "plt.figure(figsize=(17, 5))\n",
    "barplot = sns.barplot(x='revenue', y='testgroup', data=revenue, palette='colorblind')\n",
    "\n",
    "# Добавление значений на график\n",
    "for index, value in enumerate(revenue['revenue']):\n",
    "    barplot.text(value + 0.02, index, f'{value:.0f}', color='black', ha='left', va='center', fontweight='bold')\n",
    "\n",
    "# Настройка графика\n",
    "plt.title('Суммарный доход по группам', fontsize=18, fontweight='bold')\n",
    "plt.xlabel('Revenue', fontsize=14)\n",
    "plt.ylabel('Группа', fontsize=14)\n",
    "plt.xticks(fontsize=12)\n",
    "plt.yticks(fontsize=12)\n",
    "plt.tight_layout()\n",
    "\n",
    "# Показать график\n",
    "plt.show()"
   ]
  },
  {
   "cell_type": "code",
   "execution_count": 22,
   "metadata": {},
   "outputs": [
    {
     "name": "stdout",
     "output_type": "stream",
     "text": [
      "Разница revenue в группах: 6.0 %\n"
     ]
    }
   ],
   "source": [
    "print('Разница revenue в группах:', (abs(revenue.revenue[0] - revenue.revenue[1])/revenue.revenue[0]*100).round(),'%')"
   ]
  },
  {
   "cell_type": "markdown",
   "metadata": {},
   "source": [
    "Видно, что несмотря на меньшее число платящих пользователей и меньшую конверсию в покупку по сравнению с контрольной группом, в тестовой группе суммарный доход выше на 6% (или на 285414 денежных единиц). Это говорит о том, что в тестовой группе меньшее число покупателей совершает покупки по большей стоимости."
   ]
  },
  {
   "cell_type": "markdown",
   "metadata": {},
   "source": [
    "Проверим распределения revenue по группам на нормальность с помошью stats.normaltest:"
   ]
  },
  {
   "cell_type": "code",
   "execution_count": 23,
   "metadata": {},
   "outputs": [
    {
     "name": "stdout",
     "output_type": "stream",
     "text": [
      "NormaltestResult(statistic=array([1394.94578431]), pvalue=array([1.23416055e-303]))\n",
      "NormaltestResult(statistic=array([1068.86000844]), pvalue=array([7.94324949e-233]))\n"
     ]
    }
   ],
   "source": [
    "print(stats.normaltest(task2.query(\"testgroup == 'a' & revenue>0\")[['revenue']]))\n",
    "print(stats.normaltest(task2.query(\"testgroup == 'b' & revenue>0\")[['revenue']]))"
   ]
  },
  {
   "cell_type": "markdown",
   "metadata": {},
   "source": [
    "Рvalue в обоих случаях меньше 0.05, значит распределения ненормальные, что было ожидаемо.\n",
    "\n",
    "Несмотря на то что размер выборок примерно одинаков, разброс значений revenue сильно различается, значит при проведении тестов на статистическую значимость различий в ARPU и ARPPU будем использовать поправку Уэлча в t-критерии."
   ]
  },
  {
   "cell_type": "markdown",
   "metadata": {},
   "source": [
    "- ### ARPU (Average Revenue Per User) \n",
    "\n",
    "ARPU измеряет средний доход на пользователя и включает всех пользователей, как платящих, так и неплатящих.\n",
    "\n",
    "Найдём средний доход на пользователя:"
   ]
  },
  {
   "cell_type": "code",
   "execution_count": 25,
   "metadata": {},
   "outputs": [
    {
     "data": {
      "text/html": [
       "<div>\n",
       "<style scoped>\n",
       "    .dataframe tbody tr th:only-of-type {\n",
       "        vertical-align: middle;\n",
       "    }\n",
       "\n",
       "    .dataframe tbody tr th {\n",
       "        vertical-align: top;\n",
       "    }\n",
       "\n",
       "    .dataframe thead th {\n",
       "        text-align: right;\n",
       "    }\n",
       "</style>\n",
       "<table border=\"1\" class=\"dataframe\">\n",
       "  <thead>\n",
       "    <tr style=\"text-align: right;\">\n",
       "      <th></th>\n",
       "      <th>testgroup</th>\n",
       "      <th>arpu</th>\n",
       "    </tr>\n",
       "  </thead>\n",
       "  <tbody>\n",
       "    <tr>\n",
       "      <th>0</th>\n",
       "      <td>a</td>\n",
       "      <td>25.41</td>\n",
       "    </tr>\n",
       "    <tr>\n",
       "      <th>1</th>\n",
       "      <td>b</td>\n",
       "      <td>26.75</td>\n",
       "    </tr>\n",
       "  </tbody>\n",
       "</table>\n",
       "</div>"
      ],
      "text/plain": [
       "  testgroup   arpu\n",
       "0         a  25.41\n",
       "1         b  26.75"
      ]
     },
     "execution_count": 25,
     "metadata": {},
     "output_type": "execute_result"
    }
   ],
   "source": [
    "arpu = task2.groupby('testgroup', as_index = False) \\\n",
    "    .agg(arpu =('revenue', 'mean')) \\\n",
    "    .round(2)\n",
    "arpu"
   ]
  },
  {
   "cell_type": "code",
   "execution_count": 26,
   "metadata": {},
   "outputs": [
    {
     "data": {
      "image/png": "[encoded data removed]",
      "text/plain": [
       "<Figure size 864x360 with 1 Axes>"
      ]
     },
     "metadata": {},
     "output_type": "display_data"
    }
   ],
   "source": [
    "# Построение графика\n",
    "plt.figure(figsize=(12, 5))\n",
    "barplot = sns.barplot(x='arpu', y='testgroup', data=arpu, palette='colorblind')\n",
    "\n",
    "# Добавление значений на график\n",
    "for index, value in enumerate(arpu['arpu']):\n",
    "    barplot.text(value + 0.02, index, f'{value:.2f}', color='black', ha='left', va='center', fontweight='bold')\n",
    "\n",
    "# Настройка графика\n",
    "plt.title('Средний доход на пользователя (ARPU)', fontsize=18, fontweight='bold')\n",
    "plt.xlabel('ARPU', fontsize=14)\n",
    "plt.ylabel('Группа', fontsize=14)\n",
    "plt.xticks(fontsize=12)\n",
    "plt.yticks(fontsize=12)\n",
    "plt.tight_layout()\n",
    "\n",
    "# Показать график\n",
    "plt.show()"
   ]
  },
  {
   "cell_type": "code",
   "execution_count": 27,
   "metadata": {},
   "outputs": [
    {
     "name": "stdout",
     "output_type": "stream",
     "text": [
      "Разница (%) ARPU в группах: 5.0 %\n"
     ]
    }
   ],
   "source": [
    "print('Разница (%) ARPU в группах:', (abs(arpu.arpu[0] - arpu.arpu[1])/arpu.arpu[0]*100).round(),'%')"
   ]
  },
  {
   "cell_type": "markdown",
   "metadata": {},
   "source": [
    "По графику видно, что средний доход на одного пользователя в тестовой группе выше на 5% (или на 1,34 денежных единиц), однако статистическая значимость данного наблюдения ещё не доказана.\n",
    "\n",
    "Проведём U-теста Манна-Уитни и t-тест Уэлча, чтобы проверить наличие статистической значимости различий среднего дохода на пользователя по группам.\n",
    "\n",
    "- Нулевая гипотеза: нет статистически значимой разницы значений среднего дохода в группах а и b.\n",
    "\n",
    "- Альтернативная гипотеза: есть статистически значимая разница значений среднего дохода в группах a и b."
   ]
  },
  {
   "cell_type": "code",
   "execution_count": 28,
   "metadata": {},
   "outputs": [],
   "source": [
    "# Извлечение ARPU для каждой группы\n",
    "group1_arpu = task2[task2['testgroup'] == arpu['testgroup'].iloc[0]]['revenue']\n",
    "group2_arpu = task2[task2['testgroup'] == arpu['testgroup'].iloc[1]]['revenue']"
   ]
  },
  {
   "cell_type": "code",
   "execution_count": 29,
   "metadata": {},
   "outputs": [
    {
     "name": "stdout",
     "output_type": "stream",
     "text": [
      "U-тест Манна-Уитни:\n",
      "Статистика: 20491259376.0\n",
      "pvalue: 0.06269701316074398\n"
     ]
    }
   ],
   "source": [
    "# Проведение U-теста Манна-Уитни\n",
    "stat, p_value = stats.mannwhitneyu(group1_arpu, group2_arpu)\n",
    "\n",
    "print('U-тест Манна-Уитни:')\n",
    "print('Статистика:', stat)\n",
    "print('pvalue:', p_value)"
   ]
  },
  {
   "cell_type": "markdown",
   "metadata": {},
   "source": [
    "Pvalue > 0.05, значит у нас нет оснований отклонить нулевую гипотезу, то есть нет статистически значимой разницы."
   ]
  },
  {
   "cell_type": "code",
   "execution_count": 30,
   "metadata": {},
   "outputs": [
    {
     "name": "stdout",
     "output_type": "stream",
     "text": [
      "t-тест Уэлча:\n",
      "Статистика: -0.6234876562792212\n",
      "pvalue: 0.5329647014130866\n"
     ]
    }
   ],
   "source": [
    "# Проведение t-теста Уэлча\n",
    "stat, p_value = stats.ttest_ind(group1_arpu, group2_arpu, equal_var = False)\n",
    "\n",
    "print('t-тест Уэлча:')\n",
    "print('Статистика:', stat)\n",
    "print('pvalue:', p_value)"
   ]
  },
  {
   "cell_type": "markdown",
   "metadata": {},
   "source": [
    "Pvalue > 0.05, значит у нас нет оснований отклонить нулевую гипотезу, то есть нет статистически значимой разницы. Однако стоит учесть, что в данном тесте pvalue очень близко к уровню значимости."
   ]
  },
  {
   "cell_type": "markdown",
   "metadata": {},
   "source": [
    "- ### ARPPU (Average Revenue Per Paying User)\n",
    "\n",
    "ARPPU измеряет средний доход на **платящего** пользователя и учитывает только тех пользователей, которые сделали хотя бы одну покупку. \n",
    "\n",
    "Найдём средний доход на платящего пользователя:"
   ]
  },
  {
   "cell_type": "code",
   "execution_count": 31,
   "metadata": {},
   "outputs": [
    {
     "data": {
      "text/html": [
       "<div>\n",
       "<style scoped>\n",
       "    .dataframe tbody tr th:only-of-type {\n",
       "        vertical-align: middle;\n",
       "    }\n",
       "\n",
       "    .dataframe tbody tr th {\n",
       "        vertical-align: top;\n",
       "    }\n",
       "\n",
       "    .dataframe thead th {\n",
       "        text-align: right;\n",
       "    }\n",
       "</style>\n",
       "<table border=\"1\" class=\"dataframe\">\n",
       "  <thead>\n",
       "    <tr style=\"text-align: right;\">\n",
       "      <th></th>\n",
       "      <th>testgroup</th>\n",
       "      <th>arppu</th>\n",
       "    </tr>\n",
       "  </thead>\n",
       "  <tbody>\n",
       "    <tr>\n",
       "      <th>0</th>\n",
       "      <td>a</td>\n",
       "      <td>2664.00</td>\n",
       "    </tr>\n",
       "    <tr>\n",
       "      <th>1</th>\n",
       "      <td>b</td>\n",
       "      <td>3003.66</td>\n",
       "    </tr>\n",
       "  </tbody>\n",
       "</table>\n",
       "</div>"
      ],
      "text/plain": [
       "  testgroup    arppu\n",
       "0         a  2664.00\n",
       "1         b  3003.66"
      ]
     },
     "execution_count": 31,
     "metadata": {},
     "output_type": "execute_result"
    }
   ],
   "source": [
    "arppu = task2.query('revenue > 0') \\\n",
    "    .groupby('testgroup', as_index = False) \\\n",
    "    .agg(arppu =('revenue', 'mean')) \\\n",
    "    .round(2)\n",
    "arppu"
   ]
  },
  {
   "cell_type": "code",
   "execution_count": 32,
   "metadata": {},
   "outputs": [
    {
     "data": {
      "image/png": "[encoded data removed]",
      "text/plain": [
       "<Figure size 1080x360 with 1 Axes>"
      ]
     },
     "metadata": {},
     "output_type": "display_data"
    }
   ],
   "source": [
    "# Построение графика\n",
    "plt.figure(figsize=(15, 5))\n",
    "barplot = sns.barplot(x='arppu', y='testgroup', data=arppu, palette='colorblind')\n",
    "\n",
    "# Добавление значений на график\n",
    "for index, value in enumerate(arppu['arppu']):\n",
    "    barplot.text(value, index, f'{value:.2f}', color='black', ha='left', va='center', fontsize=12, fontweight='bold')\n",
    "\n",
    "# Настройка графика\n",
    "plt.title('ARPPU', fontsize=18, fontweight='bold')\n",
    "plt.ylabel('Группа', fontsize=14)\n",
    "plt.xlabel('ARPPU', fontsize=14)\n",
    "plt.xticks(fontsize=12)\n",
    "plt.yticks(fontsize=12)\n",
    "plt.tight_layout()\n",
    "\n",
    "# Показать график\n",
    "plt.show()"
   ]
  },
  {
   "cell_type": "markdown",
   "metadata": {},
   "source": [
    " средний доход на платящего пользователя"
   ]
  },
  {
   "cell_type": "code",
   "execution_count": 33,
   "metadata": {},
   "outputs": [
    {
     "name": "stdout",
     "output_type": "stream",
     "text": [
      "Разница (%) ARPPU в группах: 13.0\n"
     ]
    }
   ],
   "source": [
    "print('Разница (%) ARPPU в группах:', (abs(arppu.arppu[0] - arppu.arppu[1])/arppu.arppu[0]*100).round())"
   ]
  },
  {
   "cell_type": "markdown",
   "metadata": {},
   "source": [
    "По графику видно, что средний доход на одного платящего пользователя в тестовой группе выше на 13% (или на 339,66 денежных единиц), однако статистическая значимость данного наблюдения ещё не доказана.\n",
    "\n",
    "Проведём U-теста Манна-Уитни и t-тест Уэлча, чтобы проверить наличие статистической значимости различий среднего дохода на платящего пользователя по группам.\n",
    "\n",
    "- Нулевая гипотеза: нет статистически значимой разницы значений среднего дохода на одного платящего пользователя  в группах а и b.\n",
    "\n",
    "- Альтернативная гипотеза: есть статистически значимая разница значений среднего дохода на одного платящего пользователя в группах a и b."
   ]
  },
  {
   "cell_type": "code",
   "execution_count": 34,
   "metadata": {},
   "outputs": [],
   "source": [
    "# Извлечение ARPPU для каждой группы\n",
    "group1_arppu = task2[task2['testgroup'] == arppu['testgroup'].iloc[0]]['revenue']\n",
    "group2_arppu = task2[task2['testgroup'] == arppu['testgroup'].iloc[1]]['revenue']"
   ]
  },
  {
   "cell_type": "code",
   "execution_count": 35,
   "metadata": {},
   "outputs": [
    {
     "name": "stdout",
     "output_type": "stream",
     "text": [
      "U-тест Манна-Уитни:\n",
      "Статистика: 20491259376.0\n",
      "pvalue: 0.06269701316074398\n"
     ]
    }
   ],
   "source": [
    "# Проведение U-теста Манна-Уитни\n",
    "stat, p_value = stats.mannwhitneyu(group1_arppu, group2_arppu)\n",
    "\n",
    "print('U-тест Манна-Уитни:')\n",
    "print('Статистика:', stat)\n",
    "print('pvalue:', p_value)"
   ]
  },
  {
   "cell_type": "markdown",
   "metadata": {},
   "source": [
    "Pvalue > 0.05, значит у нас нет оснований отклонить нулевую гипотезу, то есть нет статистически значимой разницы."
   ]
  },
  {
   "cell_type": "code",
   "execution_count": 36,
   "metadata": {},
   "outputs": [
    {
     "name": "stdout",
     "output_type": "stream",
     "text": [
      "t-тест Уэлча:\n",
      "Статистика: -0.6234876562792212\n",
      "pvalue: 0.5329647014130866\n"
     ]
    }
   ],
   "source": [
    "# Проведение t-теста Уэлча\n",
    "stat, p_value = stats.ttest_ind(group1_arppu, group2_arppu, equal_var = False)\n",
    "\n",
    "print('t-тест Уэлча:')\n",
    "print('Статистика:', stat)\n",
    "print('pvalue:', p_value)"
   ]
  },
  {
   "cell_type": "markdown",
   "metadata": {},
   "source": [
    "Pvalue > 0.05, значит у нас нет оснований отклонить нулевую гипотезу, то есть нет статистически значимой разницы."
   ]
  },
  {
   "cell_type": "markdown",
   "metadata": {},
   "source": [
    "### Какой набор предложений можно считать лучшим?"
   ]
  },
  {
   "cell_type": "markdown",
   "metadata": {},
   "source": [
    "#### Итак, что мы имеем:\n",
    "\n",
    "- **Число платящих пользователей**: в контрольной группе a число платящих пользователей выше, чем в тестовой группе b. Это может указывать на то, что текущий набор акционных предложений в контрольной группе более эффективен в стимулировании платежной активности пользователей.\n",
    "\n",
    "- **Конверсия в покупку**: конверсия в группе a больше, чем в группе b на 0,06. Данная разница статистически значима. Можно сделать вывод о том, что набор старых акционных предложений для контрольной группы положительно влияет на пользователей, побуждая их совершать покупки. Набор новых предложений для группы b действительно снижает конверсию в покупку.\n",
    "\n",
    "- **Revenue**: \n",
    "  * Диапазон большинства значений revenue в группе а намного меньше, чем в группе b. Медианное значение дохода в группе a примерно в 10 раз меньше, чем в группе b. \n",
    "  * В группе а большинство покупок имеют стоимость 200-400 денежных единиц, однако имеются и слишком дорогие покупки, что говорит о неравномерности распределения. В группе b подобных аномалий не наблюдается. \n",
    "  * Несмотря на меньшее число платящих пользователей и меньшую конверсию в покупку по сравнению с контрольной группой, в тестовой группе суммарный доход выше на 6% (или на 285414 денежных единиц). Это говорит о том, что в тестовой группе меньшее число покупателей совершает покупки по большей стоимости. Обратная ситуация наблюдается в контрольной группе: большее число покупателей совершает покупки по меньшей стоимости.\n",
    "\n",
    "- **ARPU & ARPPU**: набор акционных предложений для групп a и b не оказал статистически значимого влияния на ARPPU и ARPU.\n",
    "\n",
    "#### Вывод:\n",
    "\n",
    "* **Контрольная группа (группа a)** демонстрирует более высокую конверсию и большее количество платящих пользователей, что указывает на эффективность текущих акционных предложений.\n",
    "\n",
    "* **Тестовая группа (группа b)**, несмотря на меньшее количество платящих пользователей, показывает более высокий суммарный доход благодаря более крупным покупкам.\n",
    "\n",
    "#### Рекомендации\n",
    "\n",
    "Если целью компании является увеличение числа платящих пользователей и конверсии, то стоит рассмотреть возможность улучшения акционных предложений в тестовой группе b, чтобы они стали более привлекательными для пользователей. Если же цель заключается в увеличении общего дохода, то текущие предложения в группе b могут быть более эффективными, несмотря на меньшую конверсию.\n",
    "\n",
    "Таким образом, лучшим набором предложений следует считать тот, который наиболее соответствует текущим бизнес-целям компании: если это увеличение числа платящих пользователей — группа a, если это увеличение общего дохода — группа b."
   ]
  },
  {
   "cell_type": "markdown",
   "metadata": {},
   "source": [
    "## Задание 3\n",
    "В игре Plants & Gardens каждый месяц проводятся тематические события, ограниченные по времени. В них игроки могут получить уникальные предметы для сада и персонажей, дополнительные монеты или бонусы. Для получения награды требуется пройти ряд уровней за определенное время. С помощью каких метрик можно оценить результаты последнего прошедшего события?\n",
    "\n",
    "Предположим, в другом событии мы усложнили механику событий так, что при каждой неудачной попытке выполнения уровня игрок будет откатываться на несколько уровней назад. Изменится ли набор метрик оценки результата? Если да, то как?"
   ]
  },
  {
   "cell_type": "markdown",
   "metadata": {},
   "source": [
    "### Метрики для оценки результатов события\n",
    "\n",
    "Для оценки результатов последнего прошедшего события в игре Plants & Gardens можно использовать следующие метрики:\n",
    "\n",
    "1. **Дневная аудитория (DAU)** — количество уникальных пользователей, которые зашли в игру в течение суток. С помощью этой метрики можно сравнить количество пользователей в дни тематических событий и в обычные дни. \n",
    "\n",
    "2. **Процент завершения**: Доля игроков, которые успешно завершили все уровни события. Это даст представление о сложности уровней и вовлеченности игроков.\n",
    "\n",
    "3. **Среднее время прохождения**: Время, затраченное игроками на завершение всех уровней события. Это поможет оценить, насколько эффективно игроки справлялись с задачами.\n",
    "\n",
    "4. Обратная связь от игроков: Опросы или отзывы, собранные после события, могут дать ценную информацию о том, что игроки думают о сложности и интересности событий.\n",
    "\n",
    "### Изменения в метриках при усложнении механики\n",
    "\n",
    "На мой взгляд, наличие возврата назад и необходимость пользователю начинать все с нуля негативно скажется на показателях. Особенно если прохождение уровней окажется сложным. Если у пользователя мотивация будет низкой, а достижение результата слишком трудоемким, ему просто не захочется участвовать в этом процессе. Поэтому помимо вышеупомянутых показателей стоит добавить следующие:\n",
    "\n",
    "1. **Среднее количество откатов**: Среднее количество уровней, на которые игроки откатываются после неудачи. Это поможет понять, насколько сильно усложнение механики влияет на игровой процесс.\n",
    "\n",
    "3. **Время на восстановление**: Время, необходимое игрокам для повторного прохождения уровней после отката. Это может дать представление о том, насколько энергозатратням стало событие.\n",
    "\n",
    "4. **Retention** - метрика, которая показывает, как пользователи возвращаются в продукт."
   ]
  }
 ],
 "metadata": {
  "kernelspec": {
   "display_name": "Python 3",
   "language": "python",
   "name": "python3"
  },
  "language_info": {
   "codemirror_mode": {
    "name": "ipython",
    "version": 3
   },
   "file_extension": ".py",
   "mimetype": "text/x-python",
   "name": "python",
   "nbconvert_exporter": "python",
   "pygments_lexer": "ipython3",
   "version": "3.7.3"
  }
 },
 "nbformat": 4,
 "nbformat_minor": 4
}
